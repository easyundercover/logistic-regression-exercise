{
    "cells": [
        {
            "cell_type": "markdown",
            "metadata": {},
            "source": [
                "# Explore here\n",
                "\n",
                "It's recommended to use this notebook for exploration purposes.\n"
            ]
        },
        {
            "cell_type": "code",
            "execution_count": 1,
            "metadata": {},
            "outputs": [],
            "source": [
                "import numpy as np\n",
                "import pandas as pd\n",
                "import seaborn as sns\n",
                "import matplotlib.pyplot as pyplot"
            ]
        },
        {
            "cell_type": "code",
            "execution_count": 11,
            "metadata": {},
            "outputs": [],
            "source": [
                "url = \"https://raw.githubusercontent.com/4GeeksAcademy/logistic-regression-project-tutorial/main/bank-marketing-campaign-data.csv\"\n",
                "df_raw = pd.read_csv(url, sep = \";\")"
            ]
        },
        {
            "cell_type": "code",
            "execution_count": 5,
            "metadata": {},
            "outputs": [
                {
                    "name": "stdout",
                    "output_type": "stream",
                    "text": [
                        "<class 'pandas.core.frame.DataFrame'>\n",
                        "RangeIndex: 41188 entries, 0 to 41187\n",
                        "Data columns (total 21 columns):\n",
                        " #   Column          Non-Null Count  Dtype  \n",
                        "---  ------          --------------  -----  \n",
                        " 0   age             41188 non-null  int64  \n",
                        " 1   job             41188 non-null  object \n",
                        " 2   marital         41188 non-null  object \n",
                        " 3   education       41188 non-null  object \n",
                        " 4   default         41188 non-null  object \n",
                        " 5   housing         41188 non-null  object \n",
                        " 6   loan            41188 non-null  object \n",
                        " 7   contact         41188 non-null  object \n",
                        " 8   month           41188 non-null  object \n",
                        " 9   day_of_week     41188 non-null  object \n",
                        " 10  duration        41188 non-null  int64  \n",
                        " 11  campaign        41188 non-null  int64  \n",
                        " 12  pdays           41188 non-null  int64  \n",
                        " 13  previous        41188 non-null  int64  \n",
                        " 14  poutcome        41188 non-null  object \n",
                        " 15  emp.var.rate    41188 non-null  float64\n",
                        " 16  cons.price.idx  41188 non-null  float64\n",
                        " 17  cons.conf.idx   41188 non-null  float64\n",
                        " 18  euribor3m       41188 non-null  float64\n",
                        " 19  nr.employed     41188 non-null  float64\n",
                        " 20  y               41188 non-null  object \n",
                        "dtypes: float64(5), int64(5), object(11)\n",
                        "memory usage: 6.6+ MB\n"
                    ]
                }
            ],
            "source": [
                "df_raw.info()\n",
                "#Info sobre data types y nulls "
            ]
        },
        {
            "cell_type": "code",
            "execution_count": 8,
            "metadata": {},
            "outputs": [
                {
                    "data": {
                        "text/html": [
                            "<div>\n",
                            "<style scoped>\n",
                            "    .dataframe tbody tr th:only-of-type {\n",
                            "        vertical-align: middle;\n",
                            "    }\n",
                            "\n",
                            "    .dataframe tbody tr th {\n",
                            "        vertical-align: top;\n",
                            "    }\n",
                            "\n",
                            "    .dataframe thead th {\n",
                            "        text-align: right;\n",
                            "    }\n",
                            "</style>\n",
                            "<table border=\"1\" class=\"dataframe\">\n",
                            "  <thead>\n",
                            "    <tr style=\"text-align: right;\">\n",
                            "      <th></th>\n",
                            "      <th>age</th>\n",
                            "      <th>job</th>\n",
                            "      <th>marital</th>\n",
                            "      <th>education</th>\n",
                            "      <th>default</th>\n",
                            "      <th>housing</th>\n",
                            "      <th>loan</th>\n",
                            "      <th>contact</th>\n",
                            "      <th>month</th>\n",
                            "      <th>day_of_week</th>\n",
                            "      <th>...</th>\n",
                            "      <th>campaign</th>\n",
                            "      <th>pdays</th>\n",
                            "      <th>previous</th>\n",
                            "      <th>poutcome</th>\n",
                            "      <th>emp.var.rate</th>\n",
                            "      <th>cons.price.idx</th>\n",
                            "      <th>cons.conf.idx</th>\n",
                            "      <th>euribor3m</th>\n",
                            "      <th>nr.employed</th>\n",
                            "      <th>y</th>\n",
                            "    </tr>\n",
                            "  </thead>\n",
                            "  <tbody>\n",
                            "    <tr>\n",
                            "      <th>0</th>\n",
                            "      <td>56</td>\n",
                            "      <td>housemaid</td>\n",
                            "      <td>married</td>\n",
                            "      <td>basic.4y</td>\n",
                            "      <td>no</td>\n",
                            "      <td>no</td>\n",
                            "      <td>no</td>\n",
                            "      <td>telephone</td>\n",
                            "      <td>may</td>\n",
                            "      <td>mon</td>\n",
                            "      <td>...</td>\n",
                            "      <td>1</td>\n",
                            "      <td>999</td>\n",
                            "      <td>0</td>\n",
                            "      <td>nonexistent</td>\n",
                            "      <td>1.1</td>\n",
                            "      <td>93.994</td>\n",
                            "      <td>-36.4</td>\n",
                            "      <td>4.857</td>\n",
                            "      <td>5191.0</td>\n",
                            "      <td>no</td>\n",
                            "    </tr>\n",
                            "    <tr>\n",
                            "      <th>1</th>\n",
                            "      <td>57</td>\n",
                            "      <td>services</td>\n",
                            "      <td>married</td>\n",
                            "      <td>high.school</td>\n",
                            "      <td>unknown</td>\n",
                            "      <td>no</td>\n",
                            "      <td>no</td>\n",
                            "      <td>telephone</td>\n",
                            "      <td>may</td>\n",
                            "      <td>mon</td>\n",
                            "      <td>...</td>\n",
                            "      <td>1</td>\n",
                            "      <td>999</td>\n",
                            "      <td>0</td>\n",
                            "      <td>nonexistent</td>\n",
                            "      <td>1.1</td>\n",
                            "      <td>93.994</td>\n",
                            "      <td>-36.4</td>\n",
                            "      <td>4.857</td>\n",
                            "      <td>5191.0</td>\n",
                            "      <td>no</td>\n",
                            "    </tr>\n",
                            "    <tr>\n",
                            "      <th>2</th>\n",
                            "      <td>37</td>\n",
                            "      <td>services</td>\n",
                            "      <td>married</td>\n",
                            "      <td>high.school</td>\n",
                            "      <td>no</td>\n",
                            "      <td>yes</td>\n",
                            "      <td>no</td>\n",
                            "      <td>telephone</td>\n",
                            "      <td>may</td>\n",
                            "      <td>mon</td>\n",
                            "      <td>...</td>\n",
                            "      <td>1</td>\n",
                            "      <td>999</td>\n",
                            "      <td>0</td>\n",
                            "      <td>nonexistent</td>\n",
                            "      <td>1.1</td>\n",
                            "      <td>93.994</td>\n",
                            "      <td>-36.4</td>\n",
                            "      <td>4.857</td>\n",
                            "      <td>5191.0</td>\n",
                            "      <td>no</td>\n",
                            "    </tr>\n",
                            "    <tr>\n",
                            "      <th>3</th>\n",
                            "      <td>40</td>\n",
                            "      <td>admin.</td>\n",
                            "      <td>married</td>\n",
                            "      <td>basic.6y</td>\n",
                            "      <td>no</td>\n",
                            "      <td>no</td>\n",
                            "      <td>no</td>\n",
                            "      <td>telephone</td>\n",
                            "      <td>may</td>\n",
                            "      <td>mon</td>\n",
                            "      <td>...</td>\n",
                            "      <td>1</td>\n",
                            "      <td>999</td>\n",
                            "      <td>0</td>\n",
                            "      <td>nonexistent</td>\n",
                            "      <td>1.1</td>\n",
                            "      <td>93.994</td>\n",
                            "      <td>-36.4</td>\n",
                            "      <td>4.857</td>\n",
                            "      <td>5191.0</td>\n",
                            "      <td>no</td>\n",
                            "    </tr>\n",
                            "    <tr>\n",
                            "      <th>4</th>\n",
                            "      <td>56</td>\n",
                            "      <td>services</td>\n",
                            "      <td>married</td>\n",
                            "      <td>high.school</td>\n",
                            "      <td>no</td>\n",
                            "      <td>no</td>\n",
                            "      <td>yes</td>\n",
                            "      <td>telephone</td>\n",
                            "      <td>may</td>\n",
                            "      <td>mon</td>\n",
                            "      <td>...</td>\n",
                            "      <td>1</td>\n",
                            "      <td>999</td>\n",
                            "      <td>0</td>\n",
                            "      <td>nonexistent</td>\n",
                            "      <td>1.1</td>\n",
                            "      <td>93.994</td>\n",
                            "      <td>-36.4</td>\n",
                            "      <td>4.857</td>\n",
                            "      <td>5191.0</td>\n",
                            "      <td>no</td>\n",
                            "    </tr>\n",
                            "  </tbody>\n",
                            "</table>\n",
                            "<p>5 rows × 21 columns</p>\n",
                            "</div>"
                        ],
                        "text/plain": [
                            "   age        job  marital    education  default housing loan    contact  \\\n",
                            "0   56  housemaid  married     basic.4y       no      no   no  telephone   \n",
                            "1   57   services  married  high.school  unknown      no   no  telephone   \n",
                            "2   37   services  married  high.school       no     yes   no  telephone   \n",
                            "3   40     admin.  married     basic.6y       no      no   no  telephone   \n",
                            "4   56   services  married  high.school       no      no  yes  telephone   \n",
                            "\n",
                            "  month day_of_week  ...  campaign  pdays  previous     poutcome emp.var.rate  \\\n",
                            "0   may         mon  ...         1    999         0  nonexistent          1.1   \n",
                            "1   may         mon  ...         1    999         0  nonexistent          1.1   \n",
                            "2   may         mon  ...         1    999         0  nonexistent          1.1   \n",
                            "3   may         mon  ...         1    999         0  nonexistent          1.1   \n",
                            "4   may         mon  ...         1    999         0  nonexistent          1.1   \n",
                            "\n",
                            "   cons.price.idx  cons.conf.idx  euribor3m  nr.employed   y  \n",
                            "0          93.994          -36.4      4.857       5191.0  no  \n",
                            "1          93.994          -36.4      4.857       5191.0  no  \n",
                            "2          93.994          -36.4      4.857       5191.0  no  \n",
                            "3          93.994          -36.4      4.857       5191.0  no  \n",
                            "4          93.994          -36.4      4.857       5191.0  no  \n",
                            "\n",
                            "[5 rows x 21 columns]"
                        ]
                    },
                    "execution_count": 8,
                    "metadata": {},
                    "output_type": "execute_result"
                }
            ],
            "source": [
                "df_raw.head(5)"
            ]
        },
        {
            "cell_type": "markdown",
            "metadata": {},
            "source": [
                "* Drop duplicate rows:"
            ]
        },
        {
            "cell_type": "code",
            "execution_count": 23,
            "metadata": {},
            "outputs": [],
            "source": [
                "df_raw = df_raw.drop_duplicates()"
            ]
        },
        {
            "cell_type": "markdown",
            "metadata": {},
            "source": [
                "* Chequeamos en cada variable de type 'object' si hay 'unknown':"
            ]
        },
        {
            "cell_type": "code",
            "execution_count": 24,
            "metadata": {},
            "outputs": [
                {
                    "data": {
                        "text/plain": [
                            "admin.           10419\n",
                            "blue-collar       9253\n",
                            "technician        6739\n",
                            "services          3967\n",
                            "management        2924\n",
                            "retired           1718\n",
                            "entrepreneur      1456\n",
                            "self-employed     1421\n",
                            "housemaid         1060\n",
                            "unemployed        1014\n",
                            "student            875\n",
                            "unknown            330\n",
                            "Name: job, dtype: int64"
                        ]
                    },
                    "execution_count": 24,
                    "metadata": {},
                    "output_type": "execute_result"
                }
            ],
            "source": [
                "df_raw['job'].value_counts()"
            ]
        },
        {
            "cell_type": "code",
            "execution_count": 25,
            "metadata": {},
            "outputs": [
                {
                    "data": {
                        "text/plain": [
                            "married     24921\n",
                            "single      11564\n",
                            "divorced     4611\n",
                            "unknown        80\n",
                            "Name: marital, dtype: int64"
                        ]
                    },
                    "execution_count": 25,
                    "metadata": {},
                    "output_type": "execute_result"
                }
            ],
            "source": [
                "df_raw['marital'].value_counts()"
            ]
        },
        {
            "cell_type": "code",
            "execution_count": 26,
            "metadata": {},
            "outputs": [
                {
                    "data": {
                        "text/plain": [
                            "university.degree      12164\n",
                            "high.school             9512\n",
                            "basic.9y                6045\n",
                            "professional.course     5240\n",
                            "basic.4y                4176\n",
                            "basic.6y                2291\n",
                            "unknown                 1730\n",
                            "illiterate                18\n",
                            "Name: education, dtype: int64"
                        ]
                    },
                    "execution_count": 26,
                    "metadata": {},
                    "output_type": "execute_result"
                }
            ],
            "source": [
                "df_raw['education'].value_counts()"
            ]
        },
        {
            "cell_type": "code",
            "execution_count": 27,
            "metadata": {},
            "outputs": [
                {
                    "data": {
                        "text/plain": [
                            "no         32577\n",
                            "unknown     8596\n",
                            "yes            3\n",
                            "Name: default, dtype: int64"
                        ]
                    },
                    "execution_count": 27,
                    "metadata": {},
                    "output_type": "execute_result"
                }
            ],
            "source": [
                "df_raw['default'].value_counts()"
            ]
        },
        {
            "cell_type": "code",
            "execution_count": 28,
            "metadata": {},
            "outputs": [
                {
                    "data": {
                        "text/plain": [
                            "yes        21571\n",
                            "no         18615\n",
                            "unknown      990\n",
                            "Name: housing, dtype: int64"
                        ]
                    },
                    "execution_count": 28,
                    "metadata": {},
                    "output_type": "execute_result"
                }
            ],
            "source": [
                "df_raw['housing'].value_counts()"
            ]
        },
        {
            "cell_type": "code",
            "execution_count": 29,
            "metadata": {},
            "outputs": [
                {
                    "data": {
                        "text/plain": [
                            "no         33938\n",
                            "yes         6248\n",
                            "unknown      990\n",
                            "Name: loan, dtype: int64"
                        ]
                    },
                    "execution_count": 29,
                    "metadata": {},
                    "output_type": "execute_result"
                }
            ],
            "source": [
                "df_raw['loan'].value_counts()"
            ]
        },
        {
            "cell_type": "code",
            "execution_count": 30,
            "metadata": {},
            "outputs": [
                {
                    "data": {
                        "text/plain": [
                            "cellular     26135\n",
                            "telephone    15041\n",
                            "Name: contact, dtype: int64"
                        ]
                    },
                    "execution_count": 30,
                    "metadata": {},
                    "output_type": "execute_result"
                }
            ],
            "source": [
                "df_raw['contact'].value_counts()"
            ]
        },
        {
            "cell_type": "code",
            "execution_count": 18,
            "metadata": {},
            "outputs": [
                {
                    "data": {
                        "text/plain": [
                            "may    13769\n",
                            "jul     7174\n",
                            "aug     6178\n",
                            "jun     5318\n",
                            "nov     4101\n",
                            "apr     2632\n",
                            "oct      718\n",
                            "sep      570\n",
                            "mar      546\n",
                            "dec      182\n",
                            "Name: month, dtype: int64"
                        ]
                    },
                    "execution_count": 18,
                    "metadata": {},
                    "output_type": "execute_result"
                }
            ],
            "source": [
                "df_raw['month'].value_counts()"
            ]
        },
        {
            "cell_type": "code",
            "execution_count": 31,
            "metadata": {},
            "outputs": [
                {
                    "data": {
                        "text/plain": [
                            "thu    8618\n",
                            "mon    8512\n",
                            "wed    8134\n",
                            "tue    8086\n",
                            "fri    7826\n",
                            "Name: day_of_week, dtype: int64"
                        ]
                    },
                    "execution_count": 31,
                    "metadata": {},
                    "output_type": "execute_result"
                }
            ],
            "source": [
                "df_raw['day_of_week'].value_counts()"
            ]
        },
        {
            "cell_type": "code",
            "execution_count": 32,
            "metadata": {},
            "outputs": [
                {
                    "data": {
                        "text/plain": [
                            "nonexistent    35551\n",
                            "failure         4252\n",
                            "success         1373\n",
                            "Name: poutcome, dtype: int64"
                        ]
                    },
                    "execution_count": 32,
                    "metadata": {},
                    "output_type": "execute_result"
                }
            ],
            "source": [
                "df_raw['poutcome'].value_counts()"
            ]
        },
        {
            "cell_type": "code",
            "execution_count": 33,
            "metadata": {},
            "outputs": [
                {
                    "data": {
                        "text/plain": [
                            "no     36537\n",
                            "yes     4639\n",
                            "Name: y, dtype: int64"
                        ]
                    },
                    "execution_count": 33,
                    "metadata": {},
                    "output_type": "execute_result"
                }
            ],
            "source": [
                "df_raw['y'].value_counts()"
            ]
        },
        {
            "cell_type": "markdown",
            "metadata": {},
            "source": [
                "* Reemplazamos los unknown por los valores más frecuentes en las variables categóricas:"
            ]
        },
        {
            "cell_type": "code",
            "execution_count": 43,
            "metadata": {},
            "outputs": [],
            "source": [
                "df_raw.loc[df_raw[\"marital\"] == \"unknown\", \"marital\"] = \"married\"\n",
                "df_raw.loc[df_raw[\"job\"] == \"unknown\", \"job\"] = \"admin.\"\n",
                "df_raw.loc[df_raw[\"education\"] == \"unknown\", \"education\"] = \"university.degree\"\n",
                "df_raw.loc[df_raw[\"default\"] == \"unknown\", \"default\"] = \"no\"\n",
                "df_raw.loc[df_raw[\"housing\"] == \"unknown\", \"housing\"] = \"yes\"\n",
                "df_raw.loc[df_raw[\"loan\"] == \"unknown\", \"loan\"] = \"no\""
            ]
        },
        {
            "cell_type": "code",
            "execution_count": null,
            "metadata": {},
            "outputs": [],
            "source": [
                "#Lo del chunk anterior también se puede hacer con boolean condition\n",
                "#Just leaving it here for educational purposes :)\n",
                "\n",
                "#boolean_condition = df.marital == 'Unknown'\n",
                "#column_name = \"marital\"\n",
                "#new_value = \"married\"\n",
                "\n",
                "#dfraw.loc[boolean_condition, column_name] = new_value"
            ]
        },
        {
            "cell_type": "markdown",
            "metadata": {},
            "source": [
                "* Reemplazamos los unknown por la media en las variables numéricas:"
            ]
        },
        {
            "cell_type": "code",
            "execution_count": 15,
            "metadata": {},
            "outputs": [],
            "source": [
                "df_raw = df_raw.replace('unknown', np.nan) #Reemplazo los uknown por NA para poder usar fillna\n",
                "for var in df_raw.columns[df_raw.dtypes == 'int64']:\n",
                "    df_raw[var] = df_raw[var].fillna(df_raw[var].mean())"
            ]
        },
        {
            "cell_type": "code",
            "execution_count": 16,
            "metadata": {},
            "outputs": [
                {
                    "name": "stdout",
                    "output_type": "stream",
                    "text": [
                        "<class 'pandas.core.frame.DataFrame'>\n",
                        "RangeIndex: 41188 entries, 0 to 41187\n",
                        "Data columns (total 21 columns):\n",
                        " #   Column          Non-Null Count  Dtype  \n",
                        "---  ------          --------------  -----  \n",
                        " 0   yes             41188 non-null  uint8  \n",
                        " 1   age             41188 non-null  int64  \n",
                        " 2   job             40858 non-null  object \n",
                        " 3   marital         41108 non-null  object \n",
                        " 4   education       39457 non-null  object \n",
                        " 5   default         32591 non-null  object \n",
                        " 6   housing         40198 non-null  object \n",
                        " 7   loan            40198 non-null  object \n",
                        " 8   contact         41188 non-null  object \n",
                        " 9   month           41188 non-null  object \n",
                        " 10  day_of_week     41188 non-null  object \n",
                        " 11  duration        41188 non-null  int64  \n",
                        " 12  campaign        41188 non-null  int64  \n",
                        " 13  pdays           41188 non-null  int64  \n",
                        " 14  previous        41188 non-null  int64  \n",
                        " 15  poutcome        41188 non-null  object \n",
                        " 16  emp.var.rate    41188 non-null  float64\n",
                        " 17  cons.price.idx  41188 non-null  float64\n",
                        " 18  cons.conf.idx   41188 non-null  float64\n",
                        " 19  euribor3m       41188 non-null  float64\n",
                        " 20  nr.employed     41188 non-null  float64\n",
                        "dtypes: float64(5), int64(5), object(10), uint8(1)\n",
                        "memory usage: 6.3+ MB\n"
                    ]
                }
            ],
            "source": [
                "df_raw.info()"
            ]
        },
        {
            "cell_type": "markdown",
            "metadata": {},
            "source": [
                "* Convertir age en categorial con grupos de edad de 10 años: "
            ]
        },
        {
            "cell_type": "code",
            "execution_count": 3,
            "metadata": {},
            "outputs": [
                {
                    "data": {
                        "text/html": [
                            "<div>\n",
                            "<style scoped>\n",
                            "    .dataframe tbody tr th:only-of-type {\n",
                            "        vertical-align: middle;\n",
                            "    }\n",
                            "\n",
                            "    .dataframe tbody tr th {\n",
                            "        vertical-align: top;\n",
                            "    }\n",
                            "\n",
                            "    .dataframe thead th {\n",
                            "        text-align: right;\n",
                            "    }\n",
                            "</style>\n",
                            "<table border=\"1\" class=\"dataframe\">\n",
                            "  <thead>\n",
                            "    <tr style=\"text-align: right;\">\n",
                            "      <th></th>\n",
                            "      <th>age_bins</th>\n",
                            "      <th>age</th>\n",
                            "    </tr>\n",
                            "  </thead>\n",
                            "  <tbody>\n",
                            "    <tr>\n",
                            "      <th>0</th>\n",
                            "      <td>(50, 60]</td>\n",
                            "      <td>56</td>\n",
                            "    </tr>\n",
                            "    <tr>\n",
                            "      <th>1</th>\n",
                            "      <td>(50, 60]</td>\n",
                            "      <td>57</td>\n",
                            "    </tr>\n",
                            "    <tr>\n",
                            "      <th>2</th>\n",
                            "      <td>(30, 40]</td>\n",
                            "      <td>37</td>\n",
                            "    </tr>\n",
                            "    <tr>\n",
                            "      <th>3</th>\n",
                            "      <td>(30, 40]</td>\n",
                            "      <td>40</td>\n",
                            "    </tr>\n",
                            "    <tr>\n",
                            "      <th>4</th>\n",
                            "      <td>(50, 60]</td>\n",
                            "      <td>56</td>\n",
                            "    </tr>\n",
                            "  </tbody>\n",
                            "</table>\n",
                            "</div>"
                        ],
                        "text/plain": [
                            "   age_bins  age\n",
                            "0  (50, 60]   56\n",
                            "1  (50, 60]   57\n",
                            "2  (30, 40]   37\n",
                            "3  (30, 40]   40\n",
                            "4  (50, 60]   56"
                        ]
                    },
                    "execution_count": 3,
                    "metadata": {},
                    "output_type": "execute_result"
                }
            ],
            "source": [
                "df_raw['age_bins'] = pd.cut(x=df_raw['age'], bins=[10,20,30,40,50,60,70,80,90,100])\n",
                "df_raw[['age_bins','age']].head()"
            ]
        },
        {
            "cell_type": "markdown",
            "metadata": {},
            "source": [
                "* Insertamos las categorías 'basic.9y','basic.6y','basic4y' en 'middle_school':"
            ]
        },
        {
            "cell_type": "code",
            "execution_count": 4,
            "metadata": {},
            "outputs": [],
            "source": [
                "df_raw['education'] = df_raw['education'].replace({'basic.9y': 'middle_school', 'basic.6y': 'middle_school', 'basic.4y': 'middle_school'})\n"
            ]
        },
        {
            "cell_type": "markdown",
            "metadata": {},
            "source": [
                "* Convertir la target variable en dummy:"
            ]
        },
        {
            "cell_type": "code",
            "execution_count": 12,
            "metadata": {},
            "outputs": [
                {
                    "name": "stdout",
                    "output_type": "stream",
                    "text": [
                        "       no  yes\n",
                        "0       1    0\n",
                        "1       1    0\n",
                        "2       1    0\n",
                        "3       1    0\n",
                        "4       1    0\n",
                        "...    ..  ...\n",
                        "41183   0    1\n",
                        "41184   1    0\n",
                        "41185   1    0\n",
                        "41186   0    1\n",
                        "41187   1    0\n",
                        "\n",
                        "[41188 rows x 2 columns]\n"
                    ]
                }
            ],
            "source": [
                "df_one = pd.get_dummies(df_raw[\"y\"])\n",
                "print(df_one)"
            ]
        },
        {
            "cell_type": "code",
            "execution_count": 13,
            "metadata": {},
            "outputs": [
                {
                    "name": "stdout",
                    "output_type": "stream",
                    "text": [
                        "       y  age          job  marital            education  default housing  \\\n",
                        "0      0   56    housemaid  married             basic.4y       no      no   \n",
                        "1      0   57     services  married          high.school  unknown      no   \n",
                        "2      0   37     services  married          high.school       no     yes   \n",
                        "3      0   40       admin.  married             basic.6y       no      no   \n",
                        "4      0   56     services  married          high.school       no      no   \n",
                        "...   ..  ...          ...      ...                  ...      ...     ...   \n",
                        "41183  1   73      retired  married  professional.course       no     yes   \n",
                        "41184  0   46  blue-collar  married  professional.course       no      no   \n",
                        "41185  0   56      retired  married    university.degree       no     yes   \n",
                        "41186  1   44   technician  married  professional.course       no      no   \n",
                        "41187  0   74      retired  married  professional.course       no     yes   \n",
                        "\n",
                        "      loan    contact month  ... duration  campaign  pdays  previous  \\\n",
                        "0       no  telephone   may  ...      261         1    999         0   \n",
                        "1       no  telephone   may  ...      149         1    999         0   \n",
                        "2       no  telephone   may  ...      226         1    999         0   \n",
                        "3       no  telephone   may  ...      151         1    999         0   \n",
                        "4      yes  telephone   may  ...      307         1    999         0   \n",
                        "...    ...        ...   ...  ...      ...       ...    ...       ...   \n",
                        "41183   no   cellular   nov  ...      334         1    999         0   \n",
                        "41184   no   cellular   nov  ...      383         1    999         0   \n",
                        "41185   no   cellular   nov  ...      189         2    999         0   \n",
                        "41186   no   cellular   nov  ...      442         1    999         0   \n",
                        "41187   no   cellular   nov  ...      239         3    999         1   \n",
                        "\n",
                        "          poutcome emp.var.rate  cons.price.idx  cons.conf.idx  euribor3m  \\\n",
                        "0      nonexistent          1.1          93.994          -36.4      4.857   \n",
                        "1      nonexistent          1.1          93.994          -36.4      4.857   \n",
                        "2      nonexistent          1.1          93.994          -36.4      4.857   \n",
                        "3      nonexistent          1.1          93.994          -36.4      4.857   \n",
                        "4      nonexistent          1.1          93.994          -36.4      4.857   \n",
                        "...            ...          ...             ...            ...        ...   \n",
                        "41183  nonexistent         -1.1          94.767          -50.8      1.028   \n",
                        "41184  nonexistent         -1.1          94.767          -50.8      1.028   \n",
                        "41185  nonexistent         -1.1          94.767          -50.8      1.028   \n",
                        "41186  nonexistent         -1.1          94.767          -50.8      1.028   \n",
                        "41187      failure         -1.1          94.767          -50.8      1.028   \n",
                        "\n",
                        "       nr.employed  \n",
                        "0           5191.0  \n",
                        "1           5191.0  \n",
                        "2           5191.0  \n",
                        "3           5191.0  \n",
                        "4           5191.0  \n",
                        "...            ...  \n",
                        "41183       4963.6  \n",
                        "41184       4963.6  \n",
                        "41185       4963.6  \n",
                        "41186       4963.6  \n",
                        "41187       4963.6  \n",
                        "\n",
                        "[41188 rows x 21 columns]\n"
                    ]
                }
            ],
            "source": [
                "df_raw = pd.concat((df_one, df_raw), axis=1)\n",
                "df_raw = df_raw.drop([\"no\"], axis=1)\n",
                "df_raw = df_raw.drop([\"y\"], axis=1)\n",
                "result = df_raw.rename(columns={\"yes\": \"y\"})\n",
                "print(result)"
            ]
        }
    ],
    "metadata": {
        "kernelspec": {
            "display_name": "Python 3.8.13 64-bit ('3.8.13')",
            "language": "python",
            "name": "python3"
        },
        "language_info": {
            "codemirror_mode": {
                "name": "ipython",
                "version": 3
            },
            "file_extension": ".py",
            "mimetype": "text/x-python",
            "name": "python",
            "nbconvert_exporter": "python",
            "pygments_lexer": "ipython3",
            "version": "3.8.13"
        },
        "orig_nbformat": 4,
        "vscode": {
            "interpreter": {
                "hash": "110cc1dee26208153f2972f08a2ad52b6a56238dc66d48e87fb757ef2996db56"
            }
        }
    },
    "nbformat": 4,
    "nbformat_minor": 2
}
